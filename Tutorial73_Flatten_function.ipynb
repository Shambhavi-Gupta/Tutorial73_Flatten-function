{
  "nbformat": 4,
  "nbformat_minor": 0,
  "metadata": {
    "colab": {
      "name": "Tutorial73_Flatten-function.ipynb",
      "provenance": [],
      "authorship_tag": "ABX9TyMEV7gyJ1qrONV/t4CDbxzP",
      "include_colab_link": true
    },
    "kernelspec": {
      "name": "python3",
      "display_name": "Python 3"
    }
  },
  "cells": [
    {
      "cell_type": "markdown",
      "metadata": {
        "id": "view-in-github",
        "colab_type": "text"
      },
      "source": [
        "<a href=\"https://colab.research.google.com/github/Shambhavi-Gupta/Tutorial73_Flatten-function/blob/main/Tutorial73_Flatten_function.ipynb\" target=\"_parent\"><img src=\"https://colab.research.google.com/assets/colab-badge.svg\" alt=\"Open In Colab\"/></a>"
      ]
    },
    {
      "cell_type": "code",
      "metadata": {
        "id": "IodMuR9l5RC3"
      },
      "source": [
        "import numpy as np\r\n",
        "#help(np.flatten())\r\n",
        "# a = np.array([[1,2],[3,4]])\r\n",
        "# print(a)\r\n",
        "# print(a.flatten())\r\n",
        "# print(a.flatten(order=\"F\"))\r\n",
        "b = np.array([[[1,2,3],[4,5,6],[7,8,9]]])\r\n",
        "print(b)\r\n",
        "print(b.flatten())\r\n",
        "print(b.flatten(order=\"F\"))"
      ],
      "execution_count": null,
      "outputs": []
    }
  ]
}